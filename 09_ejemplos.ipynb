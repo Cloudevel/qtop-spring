{
 "cells": [
  {
   "cell_type": "markdown",
   "id": "9051647a",
   "metadata": {},
   "source": [
    "# Ejemplos de *Spring*."
   ]
  },
  {
   "cell_type": "markdown",
   "id": "fcb159f3",
   "metadata": {},
   "source": [
    "https://spring.io/projects/spring-data"
   ]
  },
  {
   "cell_type": "markdown",
   "id": "1fc4246f",
   "metadata": {},
   "source": [
    "https://spring.io/projects/spring-data-jpa"
   ]
  },
  {
   "cell_type": "markdown",
   "id": "7895dbfa",
   "metadata": {},
   "source": [
    "https://spring.io/guides/gs/accessing-data-mysql/"
   ]
  },
  {
   "cell_type": "code",
   "execution_count": 1,
   "id": "59145684",
   "metadata": {},
   "outputs": [],
   "source": [
    "cd /opt/oi"
   ]
  },
  {
   "cell_type": "code",
   "execution_count": null,
   "id": "c2578559",
   "metadata": {},
   "outputs": [],
   "source": [
    "git clone https://github.com/spring-guides/gs-accessing-data-mysql.git"
   ]
  },
  {
   "cell_type": "markdown",
   "id": "197249ac",
   "metadata": {},
   "source": [
    "http://pythonista-dev.uc.r.appspot.com/openapi.json\n",
    "\n",
    "https://editor.swagger.io/"
   ]
  },
  {
   "cell_type": "markdown",
   "id": "b113f110",
   "metadata": {},
   "source": [
    "<p style=\"text-align: center\"><a rel=\"license\" href=\"http://creativecommons.org/licenses/by/4.0/\"><img alt=\"Licencia Creative Commons\" style=\"border-width:0\" src=\"https://i.creativecommons.org/l/by/4.0/80x15.png\" /></a><br />Esta obra está bajo una <a rel=\"license\" href=\"http://creativecommons.org/licenses/by/4.0/\">Licencia Creative Commons Atribución 4.0 Internacional</a>.</p>\n",
    "<p style=\"text-align: center\">&copy; José Luis Chiquete Valdivieso. 2022.</p>"
   ]
  }
 ],
 "metadata": {
  "kernelspec": {
   "display_name": "Bash",
   "language": "bash",
   "name": "bash"
  },
  "language_info": {
   "codemirror_mode": "shell",
   "file_extension": ".sh",
   "mimetype": "text/x-sh",
   "name": "bash"
  }
 },
 "nbformat": 4,
 "nbformat_minor": 5
}
