{
 "cells": [
  {
   "cell_type": "markdown",
   "metadata": {},
   "source": [
    "# Spring Boot."
   ]
  },
  {
   "cell_type": "code",
   "execution_count": null,
   "metadata": {
    "scrolled": true
   },
   "outputs": [],
   "source": [
    "wget https://services.gradle.org/distributions/gradle-7.3.3-bin.zip\n",
    "sudo unzip gradle-7.3.3-bin.zip -d /opt/\n",
    "sudo mv /opt/gradle-7.3.3 /opt/gradle\n",
    "sudo chmod +x /opt/gradle/bin/gradle\n",
    "echo \"export PATH=$PATH:/opt/gradle/bin\" >> ~/.bashrc\n",
    "rm gradle-7.3.3-bin.zip"
   ]
  },
  {
   "cell_type": "code",
   "execution_count": null,
   "metadata": {},
   "outputs": [],
   "source": [
    "tail ~/.bashrc"
   ]
  },
  {
   "cell_type": "code",
   "execution_count": null,
   "metadata": {},
   "outputs": [],
   "source": [
    "export PATH=$PATH:/opt/gradle/bin"
   ]
  },
  {
   "cell_type": "code",
   "execution_count": null,
   "metadata": {},
   "outputs": [],
   "source": [
    "gradle -v"
   ]
  },
  {
   "cell_type": "markdown",
   "metadata": {},
   "source": [
    "### *Spring Initializr*.\n",
    "\n",
    "Para facilitar el desarrollo de plantillas para el desarrollo de aplicaciones a la medida de forma ágil, está disponible el servico en línea llamado *Spring Initializr*, mediante el cual es posible crear una estructura de archivos compatibles con *Apache Maven* y *Gradle* que incluyen los componentes y dependencias de un proyecto específico.\n",
    "\n",
    "El servicio se encuentra en https://start.spring.io/\n",
    "\n",
    "Al final se podrá descargar un archivo comp-rimido que contiene lo necesario para comenzar a desarrolla una aplicación."
   ]
  },
  {
   "cell_type": "markdown",
   "metadata": {},
   "source": [
    "## El \"*Hola, Mundo*\" con una plantilla de *Spring Boot*.\n",
    "\n",
    "El directorio [src/04/demo](src/04/demo) contiene una estructura de directorios y archivos creada mediante *Spring Initializr*.\n",
    "\n",
    "* Se utilizará *Gradle* para construir un archivo *.jar*.\n",
    "* Se seleccionó *Groovy* como el lemguaje por defecto de la aplicación. \n",
    "* El grupo del proyecto es ```tutorial```.\n",
    "* El nombre del proyecto es ```demo```."
   ]
  },
  {
   "cell_type": "markdown",
   "metadata": {},
   "source": [
    "* A continuación se desempaquetará el proyecto ```demo```."
   ]
  },
  {
   "cell_type": "code",
   "execution_count": null,
   "metadata": {},
   "outputs": [],
   "source": [
    "cd src/04"
   ]
  },
  {
   "cell_type": "markdown",
   "metadata": {},
   "source": [
    "* El archivo ```src/04/demo/src/main/groovy/com/tutorial/demo/DemoApplication.groovy``` contiene el siguiente código:\n",
    "\n",
    "```groovy\n",
    "package com.tutorial.demo;\n",
    "\n",
    "import org.springframework.boot.SpringApplication;\n",
    "import org.springframework.boot.autoconfigure.SpringBootApplication;\n",
    "import org.springframework.web.bind.annotation.RequestMapping;\n",
    "import org.springframework.web.bind.annotation.RestController;\n",
    "\n",
    "@SpringBootApplication\n",
    "@RestController\n",
    "\n",
    "public class DemoApplication {\n",
    "   public static void main(String[] args) {\n",
    "      SpringApplication.run(DemoApplication.class, args);\n",
    "   }\n",
    "   @RequestMapping(value = \"/\")\n",
    "   public String hola() {\n",
    "      return \"<h1>Hola, Mundo.</h1>\";\n",
    "   }\n",
    "}\n",
    "```"
   ]
  },
  {
   "cell_type": "markdown",
   "metadata": {},
   "source": [
    "### La anotación ```@SpringBootApplication```.\n",
    "\n",
    "Esta anotación indica que el archivo contiene a una aplicación de *Spring Boot*.\n",
    "\n",
    "La referencia puede ser consultada en:\n",
    "\n",
    "https://docs.spring.io/spring-boot/docs/current/reference/htmlsingle/#using.using-the-springbootapplication-annotation"
   ]
  },
  {
   "cell_type": "markdown",
   "metadata": {},
   "source": [
    "### La anotación ```@RestController```.\n",
    "\n",
    "Esta anotación invoca a un controlador *MVC*, especializado en servicios *REST*.\n",
    "\n",
    "https://docs.spring.io/spring-boot/docs/current/reference/htmlsingle/#howto.spring-mvc"
   ]
  },
  {
   "cell_type": "markdown",
   "metadata": {},
   "source": [
    "### La anotación ```@RequestMapping```.\n",
    "\n",
    "Esta anotación permite ligar una URI local con la definición de un método . El objeto que regrese dicho métodos será publicado en la URL.\n",
    "\n",
    "```\n",
    " @RequestMapping(value = \"<URL>\")\n",
    "   public String <metodo>() {\n",
    "      return <contenido>;\n",
    "   }\n",
    "```\n",
    "\n",
    "La siguiente liga hace referencia a unn artículo que describe la anotación https://springframework.guru/spring-requestmapping-annotation/"
   ]
  },
  {
   "cell_type": "markdown",
   "metadata": {},
   "source": [
    "* A continuación se copiará el archivo  ```DemoApplication.groovy``` en le directorio ```demo/src/main/groovy/com/tutorial/demo/DemoApplication.groovy```."
   ]
  },
  {
   "cell_type": "code",
   "execution_count": null,
   "metadata": {},
   "outputs": [],
   "source": [
    "cd demo"
   ]
  },
  {
   "cell_type": "markdown",
   "metadata": {},
   "source": [
    "* Se construirá el archivo ```build/libs/demo-0.0.1-SNAPSHOT.jar``` usando *Gradle*."
   ]
  },
  {
   "cell_type": "code",
   "execution_count": null,
   "metadata": {},
   "outputs": [],
   "source": [
    "gradle clean build"
   ]
  },
  {
   "cell_type": "markdown",
   "metadata": {},
   "source": [
    "* Se ejecutará dicho archivo, el cual levantará un servicio que podrá ser consultado en http://localhost:8080"
   ]
  },
  {
   "cell_type": "code",
   "execution_count": null,
   "metadata": {},
   "outputs": [],
   "source": [
    "java -jar build/libs/demo-0.0.1-SNAPSHOT.jar"
   ]
  },
  {
   "cell_type": "markdown",
   "metadata": {},
   "source": [
    "* Se regresará al directorio superior."
   ]
  },
  {
   "cell_type": "markdown",
   "metadata": {},
   "source": [
    "<p style=\"text-align: center\"><a rel=\"license\" href=\"http://creativecommons.org/licenses/by/4.0/\"><img alt=\"Licencia Creative Commons\" style=\"border-width:0\" src=\"https://i.creativecommons.org/l/by/4.0/80x15.png\" /></a><br />Esta obra está bajo una <a rel=\"license\" href=\"http://creativecommons.org/licenses/by/4.0/\">Licencia Creative Commons Atribución 4.0 Internacional</a>.</p>\n",
    "<p style=\"text-align: center\">&copy; José Luis Chiquete Valdivieso. 2022.</p>"
   ]
  }
 ],
 "metadata": {
  "kernelspec": {
   "display_name": "Bash",
   "language": "bash",
   "name": "bash"
  },
  "language_info": {
   "codemirror_mode": "shell",
   "file_extension": ".sh",
   "mimetype": "text/x-sh",
   "name": "bash"
  }
 },
 "nbformat": 4,
 "nbformat_minor": 2
}
