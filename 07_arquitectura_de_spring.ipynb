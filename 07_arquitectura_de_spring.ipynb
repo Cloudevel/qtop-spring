{
 "cells": [
  {
   "cell_type": "markdown",
   "id": "9051647a",
   "metadata": {},
   "source": [
    "# Arquitecura de *Spring*."
   ]
  },
  {
   "cell_type": "markdown",
   "id": "38643f0c",
   "metadata": {},
   "source": [
    "https://docs.spring.io/spring-framework/docs/current/reference/html/\n",
    "\n",
    "https://docs.spring.io/spring-framework/docs/current/reference/pdf/core.pdf"
   ]
  },
  {
   "cell_type": "markdown",
   "id": "ab2f71f2",
   "metadata": {},
   "source": [
    "## Implementaciones de las *JSR* ."
   ]
  },
  {
   "cell_type": "markdown",
   "id": "6cce0744",
   "metadata": {},
   "source": [
    "https://jcp.org/en/jsr/overview"
   ]
  },
  {
   "cell_type": "markdown",
   "id": "4c326705",
   "metadata": {},
   "source": [
    "* Dependency Injection ([JSR 330](https://jcp.org/en/jsr/detail?id=330))\n",
    "* Common Annotations ([JSR 250](https://jcp.org/en/jsr/detail?id=250)) \n",
    "* Servlet API ([JSR 340](https://jcp.org/en/jsr/detail?id=340))\n",
    "* WebSocket API ([JSR 356](https://jcp.org/en/jsr/detail?id=356))\n",
    "* Concurrency Utilities ([JSR 236](https://jcp.org/en/jsr/detail?id=236))\n",
    "* JSON Binding API ([JSR 367](https://jcp.org/en/jsr/detail?id=367))\n",
    "* Bean Validation ([JSR 303](https://jcp.org/en/jsr/detail?id=303))\n",
    "* JPA ([JSR 338](https://jcp.org/en/jsr/detail?id=338))\n",
    "* JMS ([JSR 914](https://jcp.org/en/jsr/detail?id=918))\n",
    "\n"
   ]
  },
  {
   "cell_type": "markdown",
   "id": "4b591b79",
   "metadata": {},
   "source": [
    "### Programación orientada a aspectos (*AOP*)."
   ]
  },
  {
   "cell_type": "markdown",
   "id": "4a9b7d68",
   "metadata": {},
   "source": [
    "Es un paradigma de programación que permite una adecuada modularización de las aplicaciones y posibilita una mejor separación de responsabilidades.\n",
    "\n",
    "* **Aspecto (aspect)** es una funcionalidad transversal que se va a implementar de forma modular y separada del resto del sistema.\n",
    "* **Advice** es la implementación del aspecto.\n",
    "* **Join Point** es un punto de ejecución dentro del sistema donde un *aspect* puede ser conectado, como una llamada a un método, el lanzamiento de una excepción o la modificación de un campo.\n",
    "* **Pointcut** define los *advices* que se aplicarán a cada *join point*. Se especifica mediante expresiones regulares o mediante patrones de nombres (de clases, métodos o campos), e incluso dinámicamente en tiempo de ejecución según el valor de ciertos parámetros.\n",
    "* **Introduction** permite añadir métodos o atributos a clases ya existentes.\n",
    "* **Target** es la clase que es afectada por un *advice*.\n",
    "* **Proxy** es el objeto creado a partir de la aplicación del *advice* al *target*.\n",
    "* **Weaving** es el proceso de aplicar aspectos a los *targets*."
   ]
  },
  {
   "cell_type": "markdown",
   "id": "e42dfbb9",
   "metadata": {},
   "source": [
    "## Explorando el *Core* de *Spring*.\n",
    "\n",
    "https://docs.spring.io/spring-framework/docs/current/reference/html/core.html"
   ]
  },
  {
   "cell_type": "markdown",
   "id": "045a01cf",
   "metadata": {},
   "source": [
    "### Contendores (*containers*)."
   ]
  },
  {
   "cell_type": "markdown",
   "id": "5e3a9854",
   "metadata": {},
   "source": [
    "### Inversión de control (*IoC*).\n",
    "\n",
    "También conocido como Inyección de Dependencias (*ID*), es un proceso en el que los objewto definen sus dependencias únicamente mediante argumentos constructores (*contructor arguments*), argumentos a un método de fábrica (*factory method*) o propiedades que son asignada al objeto instanciado después de que es construido o regresado de un método de fábrica."
   ]
  },
  {
   "cell_type": "markdown",
   "id": "a7d8d799",
   "metadata": {},
   "source": [
    "### *Beans*.\n",
    "\n",
    "Los *beans* son los componentes básicos de una aplicación de *Spring*, y corresponden a objetos resultantes de aplicar una Inversión de Control mediate un *container*."
   ]
  },
  {
   "cell_type": "markdown",
   "id": "4d8380f0",
   "metadata": {},
   "source": [
    "## *IoC Containers*."
   ]
  },
  {
   "cell_type": "markdown",
   "id": "86fb6803",
   "metadata": {},
   "source": [
    "Son procesos que permiten crear *beans* mediante la automatización de la inversión de control. "
   ]
  },
  {
   "cell_type": "markdown",
   "id": "9c4fd5db",
   "metadata": {},
   "source": [
    "<img src=\"img/07/container-magic.png\" width=\"60%\">"
   ]
  },
  {
   "cell_type": "markdown",
   "id": "ce3b8100",
   "metadata": {},
   "source": [
    "### ```Beanfactory```.\n",
    "\n",
    "El container base es [```Beanfactory```](https://docs.spring.io/spring-framework/docs/current/javadoc-api/org/springframework/beans/factory/BeanFactory.html).\n",
    "\n",
    "```BeanFactory``` cargará las definiciones de un *bean* almacenadas en una fuente de configuración -como un documento *XML*- por medio del paquete ```org.springframework.beans```. Sin embargo, una implementación de un *bean* puede ser definida directamente en código de *Java*. No existen restircciones de cómo deberían de ser almacenadas las configuraciones de un *bean*.\n",
    "\n",
    "https://docs.spring.io/spring-framework/docs/5.3.16/javadoc-api/org/springframework/beans/factory/BeanFactory.html"
   ]
  },
  {
   "cell_type": "markdown",
   "id": "1d6a6484",
   "metadata": {},
   "source": [
    "### ```ApplicationContext```.\n",
    "\n",
    "\n",
    " ```ApplicationContext``` es una subinterfaz de ```Beanfactory``` que permite.\n",
    " \n",
    " * Facilitar la integración de las funcionalidades de *AOP* de *Spring*.\n",
    " * Manejo de recursos de mensajes.\n",
    " * Publicación de eventos.\n",
    "\n",
    "https://docs.spring.io/spring-framework/docs/3.0.0.M3/reference/html/ch04s08.html"
   ]
  },
  {
   "cell_type": "markdown",
   "id": "980ec3e5",
   "metadata": {},
   "source": [
    "### Definiciones de *beans*.\n",
    "\n",
    "* [```Class```](```https://docs.spring.io/spring-framework/docs/current/reference/html/core.html#beans-factory-class```).\n",
    "* [```Name```](https://docs.spring.io/spring-framework/docs/current/reference/html/core.html#beans-beanname).\n",
    "* [```Scope```](https://docs.spring.io/spring-framework/docs/current/reference/html/core.html#beans-factory-scopes).\n",
    "* [```Constructor arguments``` y ```Properties```](https://docs.spring.io/spring-framework/docs/current/reference/html/core.html#beans-factory-collaborators),\n",
    "* [```Autowiring mode```](https://docs.spring.io/spring-framework/docs/current/reference/html/core.html#beans-factory-autowire).\t\n",
    "* [```Lazy initialization mode```](https://docs.spring.io/spring-framework/docs/current/reference/html/core.html#beans-factory-lazy-init).\n",
    "* [```Initialization method```](https://docs.spring.io/spring-framework/docs/current/reference/html/core.html#beans-factory-lifecycle-initializingbean).\n",
    "* [```Destruction method```](https://docs.spring.io/spring-framework/docs/current/reference/html/core.html#beans-factory-lifecycle-disposablebean).\n",
    "\n",
    "\n",
    "https://docs.spring.io/spring-framework/docs/current/reference/html/core.html#beans-definition"
   ]
  },
  {
   "cell_type": "markdown",
   "id": "c71aeaea",
   "metadata": {},
   "source": [
    "### Configuración de *beans* basado en XML."
   ]
  },
  {
   "cell_type": "markdown",
   "id": "22ec2ff0",
   "metadata": {},
   "source": [
    "https://docs.spring.io/spring-framework/docs/4.2.x/spring-framework-reference/html/xsd-configuration.html"
   ]
  },
  {
   "cell_type": "markdown",
   "id": "c7dd181c",
   "metadata": {},
   "source": [
    "**Ejemplo:**"
   ]
  },
  {
   "cell_type": "markdown",
   "id": "436ed58e",
   "metadata": {},
   "source": [
    "```xml\n",
    "<!-- myns.xsd (inside package org/springframework/samples/xml) -->\n",
    "\n",
    "<?xml version=\"1.0\" encoding=\"UTF-8\"?>\n",
    "<xsd:schema xmlns=\"http://www.mycompany.com/schema/myns\"\n",
    "        xmlns:xsd=\"http://www.w3.org/2001/XMLSchema\"\n",
    "        xmlns:beans=\"http://www.springframework.org/schema/beans\"\n",
    "        targetNamespace=\"http://www.mycompany.com/schema/myns\"\n",
    "        elementFormDefault=\"qualified\"\n",
    "        attributeFormDefault=\"unqualified\">\n",
    "\n",
    "    <xsd:import namespace=\"http://www.springframework.org/schema/beans\"/>\n",
    "\n",
    "    <xsd:element name=\"dateformat\">\n",
    "        <xsd:complexType>\n",
    "            <xsd:complexContent>\n",
    "                <xsd:extension base=\"beans:identifiedType\">\n",
    "                    <xsd:attribute name=\"lenient\" type=\"xsd:boolean\"/>\n",
    "                    <xsd:attribute name=\"pattern\" type=\"xsd:string\" use=\"required\"/>\n",
    "                </xsd:extension>\n",
    "            </xsd:complexContent>\n",
    "        </xsd:complexType>\n",
    "    </xsd:element>\n",
    "</xsd:schema>\n",
    "```"
   ]
  },
  {
   "cell_type": "markdown",
   "id": "68e2c55c",
   "metadata": {},
   "source": [
    "https://java2blog.com/spring-xml-configuration/"
   ]
  },
  {
   "cell_type": "markdown",
   "id": "e5eeab2c",
   "metadata": {},
   "source": [
    "### *Spring Annotations*.\n",
    "\n",
    "Además de *XML*, es posible realizar definiciones de *beans* mediante anotaciones.\n",
    "\n",
    "https://docs.spring.io/spring-framework/docs/current/reference/html/core.html#beans-annotation-config"
   ]
  },
  {
   "cell_type": "markdown",
   "id": "8443edc1",
   "metadata": {},
   "source": [
    "https://github.com/Buzzardo/spring-docs/blob/master/annotation-cheat-sheet.adoc"
   ]
  },
  {
   "cell_type": "markdown",
   "id": "b113f110",
   "metadata": {},
   "source": [
    "<p style=\"text-align: center\"><a rel=\"license\" href=\"http://creativecommons.org/licenses/by/4.0/\"><img alt=\"Licencia Creative Commons\" style=\"border-width:0\" src=\"https://i.creativecommons.org/l/by/4.0/80x15.png\" /></a><br />Esta obra está bajo una <a rel=\"license\" href=\"http://creativecommons.org/licenses/by/4.0/\">Licencia Creative Commons Atribución 4.0 Internacional</a>.</p>\n",
    "<p style=\"text-align: center\">&copy; José Luis Chiquete Valdivieso. 2022.</p>"
   ]
  }
 ],
 "metadata": {
  "kernelspec": {
   "display_name": "Bash",
   "language": "bash",
   "name": "bash"
  },
  "language_info": {
   "codemirror_mode": "shell",
   "file_extension": ".sh",
   "mimetype": "text/x-sh",
   "name": "bash"
  }
 },
 "nbformat": 4,
 "nbformat_minor": 5
}
