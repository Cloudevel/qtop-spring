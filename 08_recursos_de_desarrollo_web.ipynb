{
 "cells": [
  {
   "cell_type": "markdown",
   "id": "9051647a",
   "metadata": {},
   "source": [
    "# Recursos de desarrollo web."
   ]
  },
  {
   "cell_type": "markdown",
   "id": "f3f9d9e1",
   "metadata": {},
   "source": [
    "El framework de *Spring* evolucionó para desarrollar aplicaciones de distinta naturaleza.\n",
    "\n",
    "Uno de los recursos más populares de *Spring* es la *API* de [*Servlets*](https://docs.oracle.com/javaee/5/tutorial/doc/bnafe.html) conocida como *Spring Web MVC*. Sin embargo, a partir de *Spring 5* se ha publicado otro *stack* basado en [programación reactiva](https://es.wikipedia.org/wiki/Reactive_programming) llamado *Spring Web Flux*."
   ]
  },
  {
   "cell_type": "markdown",
   "id": "5cec42fe",
   "metadata": {},
   "source": [
    "## *Spring MVC*."
   ]
  },
  {
   "cell_type": "markdown",
   "id": "34f11384",
   "metadata": {},
   "source": [
    "https://docs.spring.io/spring-framework/docs/current/reference/html/web.html#spring-web"
   ]
  },
  {
   "cell_type": "markdown",
   "id": "3f2ab5cf",
   "metadata": {},
   "source": [
    "<img src=\"img/08/mvc-context-hierarchy.png\" width=\"50%\">"
   ]
  },
  {
   "cell_type": "markdown",
   "id": "7895dbfa",
   "metadata": {},
   "source": [
    "https://spring.io/guides/gs/serving-web-content/"
   ]
  },
  {
   "cell_type": "markdown",
   "id": "b8ca1e35",
   "metadata": {},
   "source": [
    "## *Spring WebFlux*."
   ]
  },
  {
   "cell_type": "markdown",
   "id": "9e0fad54",
   "metadata": {},
   "source": [
    "https://docs.spring.io/spring-framework/docs/current/reference/html/web-reactive.html#spring-web-reactive"
   ]
  },
  {
   "cell_type": "code",
   "execution_count": null,
   "id": "45e82302",
   "metadata": {},
   "outputs": [],
   "source": []
  },
  {
   "cell_type": "markdown",
   "id": "b113f110",
   "metadata": {},
   "source": [
    "<p style=\"text-align: center\"><a rel=\"license\" href=\"http://creativecommons.org/licenses/by/4.0/\"><img alt=\"Licencia Creative Commons\" style=\"border-width:0\" src=\"https://i.creativecommons.org/l/by/4.0/80x15.png\" /></a><br />Esta obra está bajo una <a rel=\"license\" href=\"http://creativecommons.org/licenses/by/4.0/\">Licencia Creative Commons Atribución 4.0 Internacional</a>.</p>\n",
    "<p style=\"text-align: center\">&copy; José Luis Chiquete Valdivieso. 2022.</p>"
   ]
  }
 ],
 "metadata": {
  "kernelspec": {
   "display_name": "Bash",
   "language": "bash",
   "name": "bash"
  },
  "language_info": {
   "codemirror_mode": "shell",
   "file_extension": ".sh",
   "mimetype": "text/x-sh",
   "name": "bash"
  }
 },
 "nbformat": 4,
 "nbformat_minor": 5
}
