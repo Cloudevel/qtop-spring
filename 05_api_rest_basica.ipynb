{
 "cells": [
  {
   "cell_type": "markdown",
   "metadata": {},
   "source": [
    "# *API REST* básica."
   ]
  },
  {
   "cell_type": "markdown",
   "metadata": {},
   "source": [
    "El directorio [```src/05/demo-rest```](src/05/demo-rest) contiene una estructura de directorios y archivos creada mediante *Spring Initializr*.\n",
    "\n",
    "* Se utilizará *Gradle* para construir un archivo *.jar*.\n",
    "* Se seleccionó *Groovy* como el lemguaje por defecto de la aplicación. \n",
    "* El grupo del proyecto es ```tutorial```.\n",
    "* El nombre del proyecto es ```demo-rest```.\n",
    "* La aplicación utiliza una estructura [*HashMap*](https://docs.oracle.com/javase/8/docs/api/java/util/HashMap.html) para almacenar objetos que contienen los atributos:\n",
    "    * ```id```\n",
    "    * ```name```"
   ]
  },
  {
   "cell_type": "markdown",
   "metadata": {},
   "source": [
    "### Definción del proyecto.\n",
    "\n",
    "* La *API REST* corresponde a un sistema *CRUD* para objetos instanciados de una clase ```Product```.\n",
    "* El endpoint [localhost:8080/products](localhost:8080/products) tiene habilitados los métodos:\n",
    "   * ```GET``` para obtener un listado de los productos en formato *JSON*.\n",
    "   * ```POST``` el cual dará de alta un nuevo producto al recibir datos en formato *JSON* con la estructura ```{\"id\":\"<número>\", \"name\":\"<nombre>\"}```.\n",
    "* El endpoint ```localhost:800/products/<id>```, donde ```<id>``` es un número de identificación, tiene habilitados los métodos.\n",
    "   * ```PUT``` el cual modificará a un producto al recibir datos en formato *JSON* con la estructura ```{\"name\":\"<nombre>\"}```.\n",
    "   * ```DELETE``` el cual eliminará al producto con el valor ```<id>``` correspondiente.\n",
    "* Los datos serán almacenados y gestionados en una estructura ```HashMap```."
   ]
  },
  {
   "cell_type": "markdown",
   "metadata": {},
   "source": [
    "### El archivo ```DemoRestApplication.groovy```.\n",
    "\n",
    "``` groovy\n",
    "package com.tutorial.demorest\n",
    "\n",
    "import org.springframework.boot.SpringApplication\n",
    "import org.springframework.boot.autoconfigure.SpringBootApplication\n",
    "\n",
    "@SpringBootApplication\n",
    "class DemoRestApplication {\n",
    "\n",
    "\tstatic void main(String[] args) {\n",
    "\t\tSpringApplication.run(DemoRestApplication, args)\n",
    "\t}\n",
    "\n",
    "}\n",
    "```"
   ]
  },
  {
   "cell_type": "markdown",
   "metadata": {},
   "source": [
    "### El archivo ```ProductServiceController.java```.\n",
    "\n",
    "Este archivo es el encargado de la parte del controlador de *MVC*, realziando operaciones específicas de un *endpoint* en función del métido utilizado para acceder a este. \n",
    "\n",
    "\n",
    "```java\n",
    "package com.tutorial.demorest.controller;\n",
    "\n",
    "import java.util.HashMap;\n",
    "import java.util.Map;\n",
    "\n",
    "import org.springframework.http.HttpStatus;\n",
    "import org.springframework.http.ResponseEntity;\n",
    "import org.springframework.web.bind.annotation.PathVariable;\n",
    "import org.springframework.web.bind.annotation.RequestBody;\n",
    "import org.springframework.web.bind.annotation.RequestMapping;\n",
    "import org.springframework.web.bind.annotation.RequestMethod;\n",
    "import org.springframework.web.bind.annotation.RestController;\n",
    "\n",
    "import com.tutorial.demorest.model.Product;\n",
    "\n",
    "@RestController\n",
    "public class ProductServiceController {\n",
    "   private static Map<String, Product> productRepo = new HashMap<>();\n",
    "   static {\n",
    "      Product leche = new Product();\n",
    "      leche.setId(\"1\");\n",
    "      leche.setName(\"Leche\");\n",
    "      productRepo.put(leche.getId(), leche);\n",
    "      \n",
    "      Product pan = new Product();\n",
    "      pan.setId(\"2\");\n",
    "      pan.setName(\"Pan de caja\");\n",
    "      productRepo.put(pan.getId(), pan);\n",
    "   }\n",
    "   \n",
    "   @RequestMapping(value = \"/products/{id}\", method = RequestMethod.DELETE)\n",
    "   public ResponseEntity<Object> delete(@PathVariable(\"id\") String id) { \n",
    "      productRepo.remove(id);\n",
    "      return new ResponseEntity<>(\"Producto eliminado.\", HttpStatus.OK);\n",
    "   }\n",
    "   \n",
    "   @RequestMapping(value = \"/products/{id}\", method = RequestMethod.PUT)\n",
    "   public ResponseEntity<Object> updateProduct(@PathVariable(\"id\") String id, @RequestBody Product product) { \n",
    "      productRepo.remove(id);\n",
    "      product.setId(id);\n",
    "      productRepo.put(id, product);\n",
    "      return new ResponseEntity<>(\"Producto actualizado.\", HttpStatus.OK);\n",
    "   }\n",
    "   \n",
    "   @RequestMapping(value = \"/products\", method = RequestMethod.POST)\n",
    "   public ResponseEntity<Object> createProduct(@RequestBody Product product) {\n",
    "      productRepo.put(product.getId(), product);\n",
    "      return new ResponseEntity<>(\"Producto creado.\", HttpStatus.CREATED);\n",
    "   }\n",
    "   \n",
    "   @RequestMapping(value = \"/products\")\n",
    "   public ResponseEntity<Object> getProduct() {\n",
    "      return new ResponseEntity<>(productRepo.values(), HttpStatus.OK);\n",
    "   }\n",
    "}\n",
    "```"
   ]
  },
  {
   "cell_type": "markdown",
   "metadata": {},
   "source": [
    "### El paquete ```org.springframework.http```.\n",
    "\n",
    "Este paquete contiene herramientas para la gestión de peticiones y respuestas *HTTP*.\n",
    "\n",
    "https://docs.spring.io/spring-framework/docs/current/javadoc-api/org/springframework/http/"
   ]
  },
  {
   "cell_type": "markdown",
   "metadata": {},
   "source": [
    "#### La clase ```org.springframework.http.ResponseEntity```.\n",
    "\n",
    "https://docs.spring.io/spring-framework/docs/current/javadoc-api/org/springframework/http/ResponseEntity.html"
   ]
  },
  {
   "cell_type": "markdown",
   "metadata": {},
   "source": [
    "#### La clase ```org.springframework.http.HttpStatus```.\n",
    "\n",
    "https://docs.spring.io/spring-framework/docs/current/javadoc-api/org/springframework/http/HttpStatus.html"
   ]
  },
  {
   "cell_type": "markdown",
   "metadata": {},
   "source": [
    "## El archivo *Product.java*.\n",
    "\n",
    "``` java\n",
    "package com.tutorial.demorest.model;\n",
    "\n",
    "public class Product {\n",
    "   private String id;\n",
    "   private String name;\n",
    "\n",
    "   public String getId() {\n",
    "      return id;\n",
    "   }\n",
    "   public void setId(String id) {\n",
    "      this.id = id;\n",
    "   }\n",
    "   public String getName() {\n",
    "      return name;\n",
    "   }\n",
    "   public void setName(String name) {\n",
    "      this.name = name;\n",
    "   }\n",
    "}\n",
    "```"
   ]
  },
  {
   "cell_type": "markdown",
   "metadata": {},
   "source": [
    "* Se copiarán los archivos a ```demo-rest/src/main/groovy/com/tutorial/demorest/```."
   ]
  },
  {
   "cell_type": "code",
   "execution_count": null,
   "metadata": {},
   "outputs": [],
   "source": [
    "cd src/05/demo-rest"
   ]
  },
  {
   "cell_type": "code",
   "execution_count": null,
   "metadata": {},
   "outputs": [],
   "source": [
    "gradle clean build"
   ]
  },
  {
   "cell_type": "markdown",
   "metadata": {},
   "source": [
    "* Se ejecutará dicho archivo, el cual levantará un servicio que podrá ser consultado en http://localhost:8080/products"
   ]
  },
  {
   "cell_type": "code",
   "execution_count": null,
   "metadata": {
    "scrolled": true
   },
   "outputs": [],
   "source": [
    "java -jar build/libs/demo-rest-0.0.1-SNAPSHOT.jar"
   ]
  },
  {
   "cell_type": "markdown",
   "metadata": {},
   "source": [
    "<p style=\"text-align: center\"><a rel=\"license\" href=\"http://creativecommons.org/licenses/by/4.0/\"><img alt=\"Licencia Creative Commons\" style=\"border-width:0\" src=\"https://i.creativecommons.org/l/by/4.0/80x15.png\" /></a><br />Esta obra está bajo una <a rel=\"license\" href=\"http://creativecommons.org/licenses/by/4.0/\">Licencia Creative Commons Atribución 4.0 Internacional</a>.</p>\n",
    "<p style=\"text-align: center\">&copy; José Luis Chiquete Valdivieso. 2022.</p>"
   ]
  }
 ],
 "metadata": {
  "kernelspec": {
   "display_name": "Bash",
   "language": "bash",
   "name": "bash"
  },
  "language_info": {
   "codemirror_mode": "shell",
   "file_extension": ".sh",
   "mimetype": "text/x-sh",
   "name": "bash"
  }
 },
 "nbformat": 4,
 "nbformat_minor": 2
}
